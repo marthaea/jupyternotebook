{
 "cells": [
  {
   "cell_type": "markdown",
   "metadata": {},
   "source": [
    "ASSIGNMENT ON CONDITIONAL PROBABILITY\n"
   ]
  },
  {
   "cell_type": "code",
   "execution_count": 1,
   "metadata": {},
   "outputs": [],
   "source": [
    "import pandas as pd"
   ]
  },
  {
   "cell_type": "code",
   "execution_count": 9,
   "metadata": {},
   "outputs": [
    {
     "name": "stdout",
     "output_type": "stream",
     "text": [
      "    Access_no  gender  age                  course  DSC3108  DSC3114  MTH3108  \\\n",
      "0         123  female   21        Computer_Science     89.0     88.0       72   \n",
      "1         415    male   22        Computer_Science     91.0     98.0       88   \n",
      "2         321    male   21            Data_Science     73.0     70.0       38   \n",
      "3         124  female   21  Information_Technology     30.0     40.0       60   \n",
      "4         314  female   22        Computer_Science     70.0     75.0       78   \n",
      "5         891    male   21  Information_Technology     25.0     70.0       69   \n",
      "6         729  female   22            Data_Science     65.0     80.0       38   \n",
      "7         892  female   21            Data_Science     90.0     95.0       92   \n",
      "8         545    male   22                     NaN     54.0     69.0       78   \n",
      "9         718  female   21  Information_Technology      NaN     78.0       79   \n",
      "10        390    male   22        Computer_Science     45.0      NaN       79   \n",
      "\n",
      "    SYE3104  \n",
      "0        65  \n",
      "1        89  \n",
      "2        41  \n",
      "3        31  \n",
      "4        60  \n",
      "5        19  \n",
      "6        43  \n",
      "7        93  \n",
      "8        77  \n",
      "9        88  \n",
      "10       85  \n"
     ]
    }
   ],
   "source": [
    "Student_performance = pd.read_excel('Student_performance.xlsx')\n",
    "print(Student_performance)"
   ]
  },
  {
   "cell_type": "markdown",
   "metadata": {},
   "source": [
    "QUESTION a) <br>\n",
    "Event A: Female student  <br/>\n",
    "Event B: Studying Infomation Technology"
   ]
  },
  {
   "cell_type": "code",
   "execution_count": 12,
   "metadata": {},
   "outputs": [],
   "source": [
    "\n",
    "extraction = Student_performance[['gender','course']]"
   ]
  },
  {
   "cell_type": "code",
   "execution_count": 13,
   "metadata": {},
   "outputs": [],
   "source": [
    "event_a = Student_performance[Student_performance['gender']== 'female']"
   ]
  },
  {
   "cell_type": "code",
   "execution_count": 14,
   "metadata": {},
   "outputs": [],
   "source": [
    "event_b = Student_performance[Student_performance['course'] == 'Computer_Science']"
   ]
  },
  {
   "cell_type": "code",
   "execution_count": 19,
   "metadata": {},
   "outputs": [
    {
     "name": "stdout",
     "output_type": "stream",
     "text": [
      "2\n"
     ]
    }
   ],
   "source": [
    "joint_event = Student_performance[(Student_performance['gender']== 'female') & (Student_performance['course'] == 'Computer_Science')]\n",
    "a = (len(joint_event))\n",
    "print(a)"
   ]
  },
  {
   "cell_type": "code",
   "execution_count": 21,
   "metadata": {},
   "outputs": [
    {
     "name": "stdout",
     "output_type": "stream",
     "text": [
      "11\n"
     ]
    }
   ],
   "source": [
    "#finding the sample space\n",
    "sample_space= (len(Student_performance))\n",
    "print(sample_space)"
   ]
  },
  {
   "cell_type": "code",
   "execution_count": 23,
   "metadata": {},
   "outputs": [
    {
     "name": "stdout",
     "output_type": "stream",
     "text": [
      "The probability of a female student doing computer science is, 0.18181818181818182\n"
     ]
    }
   ],
   "source": [
    "probability = a/sample_space\n",
    "print(f\"The probability of a female student doing computer science is, {probability}\")"
   ]
  },
  {
   "cell_type": "markdown",
   "metadata": {},
   "source": [
    "QUESTION b) <br>\n",
    "Event A: A male student <br>\n",
    "Event B: Studying Data Science"
   ]
  },
  {
   "cell_type": "code",
   "execution_count": 24,
   "metadata": {},
   "outputs": [],
   "source": [
    "extraction = Student_performance[['gender','course']]"
   ]
  },
  {
   "cell_type": "code",
   "execution_count": 25,
   "metadata": {},
   "outputs": [],
   "source": [
    "event_a = Student_performance[Student_performance['gender'] == 'male']"
   ]
  },
  {
   "cell_type": "code",
   "execution_count": 31,
   "metadata": {},
   "outputs": [],
   "source": [
    "event_b = Student_performance[Student_performance['course'] == 'Data_Science']"
   ]
  },
  {
   "cell_type": "code",
   "execution_count": 36,
   "metadata": {},
   "outputs": [
    {
     "name": "stdout",
     "output_type": "stream",
     "text": [
      "1\n"
     ]
    }
   ],
   "source": [
    "joint_event = Student_performance[(Student_performance['gender'] == 'male') & (Student_performance['course'] == 'Data_Science')]\n",
    "a = len(joint_event)\n",
    "print(a)"
   ]
  },
  {
   "cell_type": "code",
   "execution_count": 40,
   "metadata": {},
   "outputs": [
    {
     "name": "stdout",
     "output_type": "stream",
     "text": [
      "11\n"
     ]
    }
   ],
   "source": [
    "##finding the sample space\n",
    "sample_space = len(Student_performance)\n",
    "print(sample_space)"
   ]
  },
  {
   "cell_type": "code",
   "execution_count": 41,
   "metadata": {},
   "outputs": [
    {
     "name": "stdout",
     "output_type": "stream",
     "text": [
      "The probability of male students studying computer science is: 0.09090909090909091\n"
     ]
    }
   ],
   "source": [
    "probability = a/sample_space\n",
    "print(f\"The probability of male students studying computer science is: {probability}\")"
   ]
  },
  {
   "cell_type": "markdown",
   "metadata": {},
   "source": [
    "QUESTION c) <br>\n",
    "Event A: A student <br>\n",
    "Event B: Studying Infomation Technology"
   ]
  },
  {
   "cell_type": "code",
   "execution_count": 42,
   "metadata": {},
   "outputs": [],
   "source": [
    "extraction = Student_performance[['course']]\n"
   ]
  },
  {
   "cell_type": "code",
   "execution_count": 46,
   "metadata": {},
   "outputs": [
    {
     "name": "stdout",
     "output_type": "stream",
     "text": [
      "3\n"
     ]
    }
   ],
   "source": [
    "event_a = Student_performance[Student_performance['course'] == 'Information_Technology']\n",
    "a = (len(event_a))"
   ]
  },
  {
   "cell_type": "code",
   "execution_count": 47,
   "metadata": {},
   "outputs": [
    {
     "name": "stdout",
     "output_type": "stream",
     "text": [
      "11\n"
     ]
    }
   ],
   "source": [
    "#finding the sample space\n",
    "sample_space = len(Student_performance)\n",
    "print(sample_space)"
   ]
  },
  {
   "cell_type": "code",
   "execution_count": 48,
   "metadata": {},
   "outputs": [
    {
     "name": "stdout",
     "output_type": "stream",
     "text": [
      "The probability of a student studying infomation technology is, 0.09090909090909091\n"
     ]
    }
   ],
   "source": [
    "probability = a/sample_space\n",
    "print(f\"The probability of a student studying infomation technology is, {probability}\")"
   ]
  },
  {
   "cell_type": "markdown",
   "metadata": {},
   "source": [
    "GROUP 2 <br>\n",
    "NALWEYISO SAMALIE RUTH B27023, M24B13/006 <br>\n",
    "NANSAMBA ASSY  B29076, M24B13/056 <br>\n",
    "KABEHO SAMANTHA B27433, M24B13/027<br>\n",
    "KATUSIIME PRAISE MARTHA B29102, M24B13/057"
   ]
  }
 ],
 "metadata": {
  "kernelspec": {
   "display_name": "base",
   "language": "python",
   "name": "python3"
  },
  "language_info": {
   "codemirror_mode": {
    "name": "ipython",
    "version": 3
   },
   "file_extension": ".py",
   "mimetype": "text/x-python",
   "name": "python",
   "nbconvert_exporter": "python",
   "pygments_lexer": "ipython3",
   "version": "3.12.4"
  }
 },
 "nbformat": 4,
 "nbformat_minor": 2
}
