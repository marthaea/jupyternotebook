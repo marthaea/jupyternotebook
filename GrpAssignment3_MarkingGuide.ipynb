{
 "cells": [
  {
   "cell_type": "markdown",
   "metadata": {},
   "source": [
    "## PROBABILITY AND STATISTICS 1:2 ##\n",
    "## GROUP ASSIGNMENT 3 MARKING GUIDE: 30 MARKS ##\n",
    "* The codes used in this marking guide are not strictly the only way to answer the questions and alternative correct codes/graphs will be awarded marks\n",
    "* Marks are awarded not just for results but for explanations too\n",
    "* Marks will be deducted for having no name in your \n",
    "* The marking guide uses the dataset \"Loan_Approval_Data.csv\""
   ]
  },
  {
   "cell_type": "markdown",
   "metadata": {},
   "source": [
    "## Q1: What is the marginal probability of any continuous variable? [7 MARKS]"
   ]
  },
  {
   "cell_type": "markdown",
   "metadata": {},
   "source": [
    "**A. Import libraries**"
   ]
  },
  {
   "cell_type": "code",
   "execution_count": 2,
   "metadata": {},
   "outputs": [],
   "source": [
    "import pandas as pd\n",
    "import numpy as np\n",
    "import matplotlib as plt\n",
    "import matplotlib.pyplot as plt\n",
    "import seaborn as sn\n",
    "import scipy.stats\n",
    "from scipy.stats import chi2_contingency"
   ]
  },
  {
   "cell_type": "markdown",
   "metadata": {},
   "source": [
    "**B. Import dataset as a pandas dataframe called \"loan\"**"
   ]
  },
  {
   "cell_type": "code",
   "execution_count": 3,
   "metadata": {},
   "outputs": [
    {
     "name": "stdout",
     "output_type": "stream",
     "text": [
      "<class 'pandas.core.frame.DataFrame'>\n",
      "RangeIndex: 614 entries, 0 to 613\n",
      "Data columns (total 13 columns):\n",
      " #   Column             Non-Null Count  Dtype  \n",
      "---  ------             --------------  -----  \n",
      " 0   Loan_ID            614 non-null    object \n",
      " 1   Gender             601 non-null    object \n",
      " 2   Married            611 non-null    object \n",
      " 3   Dependents         599 non-null    object \n",
      " 4   Education          614 non-null    object \n",
      " 5   Self_Employed      582 non-null    object \n",
      " 6   ApplicantIncome    614 non-null    int64  \n",
      " 7   CoapplicantIncome  614 non-null    float64\n",
      " 8   LoanAmount         592 non-null    float64\n",
      " 9   Loan_Amount_Term   600 non-null    float64\n",
      " 10  Credit_History     564 non-null    float64\n",
      " 11  Property_Area      614 non-null    object \n",
      " 12  Loan_Status        614 non-null    object \n",
      "dtypes: float64(4), int64(1), object(8)\n",
      "memory usage: 62.5+ KB\n"
     ]
    }
   ],
   "source": [
    "loan = pd.read_csv(\"Loan_Approval_Data.csv\")\n",
    "#view dataframe information (shape and datatypes)\n",
    "loan.info()"
   ]
  },
  {
   "cell_type": "markdown",
   "metadata": {},
   "source": [
    "* The dataframe has 614 samples and 13 variables (7 categorical, 5 continuous and one identifier \"Loan ID\")\n"
   ]
  },
  {
   "cell_type": "code",
   "execution_count": 4,
   "metadata": {},
   "outputs": [
    {
     "name": "stdout",
     "output_type": "stream",
     "text": [
      "The marginal probabilities for LoanAmount are:  LoanAmount_bin\n",
      "9 - 100      0.235195\n",
      "100 - 200    0.622673\n",
      "200 - 300    0.093063\n",
      "300 - 400    0.025381\n",
      "400 - 500    0.015228\n",
      "500 - 600    0.003384\n",
      "600 - 700    0.005076\n",
      "Name: proportion, dtype: float64\n"
     ]
    }
   ],
   "source": [
    "#Marginal probability of a continuous variable e.g. LoanAmount\n",
    "bins = [9.0, 100.0, 200.0, 300.0, 400.0, 500.0, 600.0, 700.0]\n",
    "labels = ['9 - 100', '100 - 200', '200 - 300', '300 - 400', '400 - 500', '500 - 600', '600 - 700']\n",
    "\n",
    "#create new column to have the bin data\n",
    "\n",
    "loan['LoanAmount_bin'] = pd.cut(loan['LoanAmount'], bins = bins, labels = labels, right =False)\n",
    "\n",
    "#calculate the marginal probabilities\n",
    "\n",
    "LoanAmount_probabilities = loan['LoanAmount_bin'].value_counts(normalize=True).sort_index()\n",
    "print(\"The marginal probabilities for LoanAmount are: \", LoanAmount_probabilities)"
   ]
  },
  {
   "cell_type": "markdown",
   "metadata": {},
   "source": [
    "         Explanation: \n",
    "* The probability of getting a loan amount of 100-200 is highest at 62.26% and lowest at a higher amount of 600-700 (0.50%)"
   ]
  },
  {
   "cell_type": "markdown",
   "metadata": {},
   "source": [
    "## Q2: What is the marginal probability of any categorical variable? [5 MARKS] ##"
   ]
  },
  {
   "cell_type": "code",
   "execution_count": 5,
   "metadata": {},
   "outputs": [
    {
     "name": "stdout",
     "output_type": "stream",
     "text": [
      "The marginal probabilities for Married are: \n",
      " Married\n",
      "Yes    0.648208\n",
      "No     0.346906\n",
      "Name: count, dtype: float64\n"
     ]
    }
   ],
   "source": [
    "#Marginal probability of a categorical variable e.g Married\n",
    "\n",
    "Married_probabilities = loan['Married'].value_counts()/len(loan)\n",
    "print(\"The marginal probabilities for Married are: \\n\", Married_probabilities)"
   ]
  },
  {
   "cell_type": "markdown",
   "metadata": {},
   "source": [
    "         Explanation: \n",
    "* The probability that loan applicants are married is higher (64.82%) than those who are not married (34.69%)"
   ]
  },
  {
   "cell_type": "markdown",
   "metadata": {},
   "source": [
    "## Q3: What is the probability that a \"female\" applicant has her Loan_Status reflecting \"Y?\" [9 MARKS] ##"
   ]
  },
  {
   "cell_type": "code",
   "execution_count": 7,
   "metadata": {},
   "outputs": [
    {
     "name": "stdout",
     "output_type": "stream",
     "text": [
      "The probability for a female having a Loan_Status of 'Y' is: 0.17772511848341233\n"
     ]
    }
   ],
   "source": [
    "#Probability of a female applicant has her Loan_Status reflecting yes\n",
    "event_female = loan[loan['Gender'] == 'Female']\n",
    "event_Y = loan[loan['Loan_Status'] == 'Y']\n",
    "\n",
    "#Event of both being female and  having a Y status\n",
    "joint_event = loan[(loan['Gender'] == 'Female') & (loan['Loan_Status'] == 'Y')]\n",
    "\n",
    "#Probability of both female and Y status\n",
    "joint_probability = len(joint_event)/len(loan)\n",
    "joint_probability\n",
    "\n",
    "Y_probability = len(event_Y)/len(loan)\n",
    "Y_probability\n",
    "\n",
    "conditional_probability = joint_probability/Y_probability\n",
    "print(\"The probability for a female having a Loan_Status of 'Y' is:\", conditional_probability)"
   ]
  },
  {
   "cell_type": "markdown",
   "metadata": {},
   "source": [
    "          Explanation: \n",
    "* The probability of a female applicant having her loan approved  is 17.77%"
   ]
  },
  {
   "cell_type": "markdown",
   "metadata": {},
   "source": [
    "## Q4: Explain the central tendency of any two continuous variables. [5 MARKS] ##"
   ]
  },
  {
   "cell_type": "markdown",
   "metadata": {},
   "source": [
    "**A. Using central tendency stats**"
   ]
  },
  {
   "cell_type": "code",
   "execution_count": 8,
   "metadata": {},
   "outputs": [
    {
     "data": {
      "text/html": [
       "<div>\n",
       "<style scoped>\n",
       "    .dataframe tbody tr th:only-of-type {\n",
       "        vertical-align: middle;\n",
       "    }\n",
       "\n",
       "    .dataframe tbody tr th {\n",
       "        vertical-align: top;\n",
       "    }\n",
       "\n",
       "    .dataframe thead th {\n",
       "        text-align: right;\n",
       "    }\n",
       "</style>\n",
       "<table border=\"1\" class=\"dataframe\">\n",
       "  <thead>\n",
       "    <tr style=\"text-align: right;\">\n",
       "      <th></th>\n",
       "      <th>ApplicantIncome</th>\n",
       "      <th>CoapplicantIncome</th>\n",
       "      <th>LoanAmount</th>\n",
       "      <th>Loan_Amount_Term</th>\n",
       "      <th>Credit_History</th>\n",
       "    </tr>\n",
       "  </thead>\n",
       "  <tbody>\n",
       "    <tr>\n",
       "      <th>count</th>\n",
       "      <td>614.000000</td>\n",
       "      <td>614.000000</td>\n",
       "      <td>592.000000</td>\n",
       "      <td>600.00000</td>\n",
       "      <td>564.000000</td>\n",
       "    </tr>\n",
       "    <tr>\n",
       "      <th>mean</th>\n",
       "      <td>5403.459283</td>\n",
       "      <td>1621.245798</td>\n",
       "      <td>146.412162</td>\n",
       "      <td>342.00000</td>\n",
       "      <td>0.842199</td>\n",
       "    </tr>\n",
       "    <tr>\n",
       "      <th>std</th>\n",
       "      <td>6109.041673</td>\n",
       "      <td>2926.248369</td>\n",
       "      <td>85.587325</td>\n",
       "      <td>65.12041</td>\n",
       "      <td>0.364878</td>\n",
       "    </tr>\n",
       "    <tr>\n",
       "      <th>min</th>\n",
       "      <td>150.000000</td>\n",
       "      <td>0.000000</td>\n",
       "      <td>9.000000</td>\n",
       "      <td>12.00000</td>\n",
       "      <td>0.000000</td>\n",
       "    </tr>\n",
       "    <tr>\n",
       "      <th>25%</th>\n",
       "      <td>2877.500000</td>\n",
       "      <td>0.000000</td>\n",
       "      <td>100.000000</td>\n",
       "      <td>360.00000</td>\n",
       "      <td>1.000000</td>\n",
       "    </tr>\n",
       "    <tr>\n",
       "      <th>50%</th>\n",
       "      <td>3812.500000</td>\n",
       "      <td>1188.500000</td>\n",
       "      <td>128.000000</td>\n",
       "      <td>360.00000</td>\n",
       "      <td>1.000000</td>\n",
       "    </tr>\n",
       "    <tr>\n",
       "      <th>75%</th>\n",
       "      <td>5795.000000</td>\n",
       "      <td>2297.250000</td>\n",
       "      <td>168.000000</td>\n",
       "      <td>360.00000</td>\n",
       "      <td>1.000000</td>\n",
       "    </tr>\n",
       "    <tr>\n",
       "      <th>max</th>\n",
       "      <td>81000.000000</td>\n",
       "      <td>41667.000000</td>\n",
       "      <td>700.000000</td>\n",
       "      <td>480.00000</td>\n",
       "      <td>1.000000</td>\n",
       "    </tr>\n",
       "  </tbody>\n",
       "</table>\n",
       "</div>"
      ],
      "text/plain": [
       "       ApplicantIncome  CoapplicantIncome  LoanAmount  Loan_Amount_Term  \\\n",
       "count       614.000000         614.000000  592.000000         600.00000   \n",
       "mean       5403.459283        1621.245798  146.412162         342.00000   \n",
       "std        6109.041673        2926.248369   85.587325          65.12041   \n",
       "min         150.000000           0.000000    9.000000          12.00000   \n",
       "25%        2877.500000           0.000000  100.000000         360.00000   \n",
       "50%        3812.500000        1188.500000  128.000000         360.00000   \n",
       "75%        5795.000000        2297.250000  168.000000         360.00000   \n",
       "max       81000.000000       41667.000000  700.000000         480.00000   \n",
       "\n",
       "       Credit_History  \n",
       "count      564.000000  \n",
       "mean         0.842199  \n",
       "std          0.364878  \n",
       "min          0.000000  \n",
       "25%          1.000000  \n",
       "50%          1.000000  \n",
       "75%          1.000000  \n",
       "max          1.000000  "
      ]
     },
     "execution_count": 8,
     "metadata": {},
     "output_type": "execute_result"
    }
   ],
   "source": [
    "loan.describe()"
   ]
  },
  {
   "cell_type": "markdown",
   "metadata": {},
   "source": [
    "                Explanation: \n",
    "* The central tendency of ApplicantIncome (mean = 5403.45, median  = 3812.50) shows that mean is greater than median which implies that incomes of the applicants are not normally distributed or positively skewed. This could result from their being a limit on the minimum income an applicant can have but no limit on the maximum amount they have when applying for a loan.\n",
    "\n",
    "* The LoanAmount (mean = 146.41, median = 128.00) is also positively skewed implying that there's a limit on the minimum loan amount awarded by the bank but no limit on the maximum awarded. \n",
    "\n",
    "* The LoanAmountTerm (mean = 342.00, median = 360.00) shows a negative skew (left skew) impying that there's no limit on the minimum duration for paying back a loan but there's limit on the maximum duration on paying back a loan.\n"
   ]
  },
  {
   "cell_type": "markdown",
   "metadata": {},
   "source": [
    "**B. Alternatively using effective size**"
   ]
  },
  {
   "cell_type": "code",
   "execution_count": 27,
   "metadata": {},
   "outputs": [],
   "source": [
    "#First subset the data to separate the two groups/populations e.g. Gender\n",
    "loan_female = loan[loan[\"Gender\"] == \"Female\"]\n",
    "loan_male = loan[loan[\"Gender\"] == \"Male\"]"
   ]
  },
  {
   "cell_type": "code",
   "execution_count": 28,
   "metadata": {},
   "outputs": [
    {
     "name": "stdout",
     "output_type": "stream",
     "text": [
      "Effect size:  -0.13867528205042234\n"
     ]
    }
   ],
   "source": [
    "#Then check the effective size of ApplicantIncome between the two groups\n",
    "mean_diff = loan_female.ApplicantIncome.mean() - loan_male.ApplicantIncome.mean()\n",
    "var_female = loan_female.ApplicantIncome.var()\n",
    "var_male = loan_male.ApplicantIncome.var()\n",
    "var_pooled = (len(loan_female)*var_female +len(loan_male)*var_male ) / float(len(loan_female)+ len(loan_male))\n",
    "effect_size = mean_diff/np.sqrt(var_pooled)\n",
    "print(\"Effect size: \",effect_size)"
   ]
  },
  {
   "cell_type": "markdown",
   "metadata": {},
   "source": [
    "           Explanation:\n",
    "* The effect size (-0.138) indicates no difference in the ApplicantIncome of the females and Males."
   ]
  },
  {
   "cell_type": "markdown",
   "metadata": {},
   "source": [
    "## Q5: Explain the relationship between the variables \"Gender\" and \"Loan_Status.\" [5 MARKS] ##"
   ]
  },
  {
   "cell_type": "markdown",
   "metadata": {},
   "source": [
    "**A. The visual relationship between Gender and Loan_Status**"
   ]
  },
  {
   "cell_type": "code",
   "execution_count": 26,
   "metadata": {},
   "outputs": [
    {
     "data": {
      "text/plain": [
       "Text(0.5, 1.0, 'Relationship between Gender and Loan_Status')"
      ]
     },
     "execution_count": 26,
     "metadata": {},
     "output_type": "execute_result"
    },
    {
     "data": {
      "image/png": "[encoded data removed]",
      "text/plain": [
       "<Figure size 640x480 with 1 Axes>"
      ]
     },
     "metadata": {},
     "output_type": "display_data"
    }
   ],
   "source": [
    "#Generate a contigency table (which is a cross tabulation of string data to numeric)\n",
    "crosstab = pd.crosstab(index = loan['Gender'], columns= loan['Loan_Status'])\n",
    "\n",
    "#Use contigeny table to generate barplot\n",
    "%matplotlib inline\n",
    "crosstab.plot.bar()\n",
    "\n",
    "#Add title and axes labels to barplot\n",
    "plt.xlabel('Gender')\n",
    "plt.ylabel('Count')\n",
    "plt.title('Relationship between Gender and Loan_Status')"
   ]
  },
  {
   "cell_type": "markdown",
   "metadata": {},
   "source": [
    "**B. Check relationship using correlation test (chisquare)**"
   ]
  },
  {
   "cell_type": "code",
   "execution_count": 15,
   "metadata": {},
   "outputs": [
    {
     "name": "stdout",
     "output_type": "stream",
     "text": [
      "chi2 statistic:     0.13963\n",
      "p-value:            0.70865\n",
      "degrees of freedom: 1\n",
      "expected frequencies:\n",
      " [[ 34.84858569  77.15141431]\n",
      " [152.15141431 336.84858569]]\n"
     ]
    }
   ],
   "source": [
    "chi2_stat, p, dof, expected = scipy.stats.chi2_contingency(crosstab)\n",
    "print(f\"chi2 statistic:     {chi2_stat:.5g}\")\n",
    "print(f\"p-value:            {p:.5g}\")\n",
    "print(f\"degrees of freedom: {dof}\")\n",
    "print(\"expected frequencies:\\n\",expected)"
   ]
  },
  {
   "cell_type": "markdown",
   "metadata": {},
   "source": [
    "**C. Alternatively look at the association between the variables**"
   ]
  },
  {
   "cell_type": "code",
   "execution_count": 18,
   "metadata": {},
   "outputs": [
    {
     "data": {
      "text/html": [
       "<div>\n",
       "<style scoped>\n",
       "    .dataframe tbody tr th:only-of-type {\n",
       "        vertical-align: middle;\n",
       "    }\n",
       "\n",
       "    .dataframe tbody tr th {\n",
       "        vertical-align: top;\n",
       "    }\n",
       "\n",
       "    .dataframe thead th {\n",
       "        text-align: right;\n",
       "    }\n",
       "</style>\n",
       "<table border=\"1\" class=\"dataframe\">\n",
       "  <thead>\n",
       "    <tr style=\"text-align: right;\">\n",
       "      <th></th>\n",
       "      <th>Gender</th>\n",
       "      <th>Loan_Status</th>\n",
       "    </tr>\n",
       "  </thead>\n",
       "  <tbody>\n",
       "    <tr>\n",
       "      <th>0</th>\n",
       "      <td>Male</td>\n",
       "      <td>Y</td>\n",
       "    </tr>\n",
       "    <tr>\n",
       "      <th>1</th>\n",
       "      <td>Male</td>\n",
       "      <td>N</td>\n",
       "    </tr>\n",
       "    <tr>\n",
       "      <th>2</th>\n",
       "      <td>Male</td>\n",
       "      <td>Y</td>\n",
       "    </tr>\n",
       "    <tr>\n",
       "      <th>3</th>\n",
       "      <td>Male</td>\n",
       "      <td>Y</td>\n",
       "    </tr>\n",
       "    <tr>\n",
       "      <th>4</th>\n",
       "      <td>Male</td>\n",
       "      <td>Y</td>\n",
       "    </tr>\n",
       "    <tr>\n",
       "      <th>...</th>\n",
       "      <td>...</td>\n",
       "      <td>...</td>\n",
       "    </tr>\n",
       "    <tr>\n",
       "      <th>609</th>\n",
       "      <td>Female</td>\n",
       "      <td>Y</td>\n",
       "    </tr>\n",
       "    <tr>\n",
       "      <th>610</th>\n",
       "      <td>Male</td>\n",
       "      <td>Y</td>\n",
       "    </tr>\n",
       "    <tr>\n",
       "      <th>611</th>\n",
       "      <td>Male</td>\n",
       "      <td>Y</td>\n",
       "    </tr>\n",
       "    <tr>\n",
       "      <th>612</th>\n",
       "      <td>Male</td>\n",
       "      <td>Y</td>\n",
       "    </tr>\n",
       "    <tr>\n",
       "      <th>613</th>\n",
       "      <td>Female</td>\n",
       "      <td>N</td>\n",
       "    </tr>\n",
       "  </tbody>\n",
       "</table>\n",
       "<p>614 rows × 2 columns</p>\n",
       "</div>"
      ],
      "text/plain": [
       "     Gender Loan_Status\n",
       "0      Male           Y\n",
       "1      Male           N\n",
       "2      Male           Y\n",
       "3      Male           Y\n",
       "4      Male           Y\n",
       "..      ...         ...\n",
       "609  Female           Y\n",
       "610    Male           Y\n",
       "611    Male           Y\n",
       "612    Male           Y\n",
       "613  Female           N\n",
       "\n",
       "[614 rows x 2 columns]"
      ]
     },
     "execution_count": 18,
     "metadata": {},
     "output_type": "execute_result"
    }
   ],
   "source": [
    "#Subset data to include only Gender and Loan_Status\n",
    "loan2=loan[[\"Gender\", \"Loan_Status\"]]\n",
    "loan2"
   ]
  },
  {
   "cell_type": "code",
   "execution_count": 20,
   "metadata": {},
   "outputs": [],
   "source": [
    "#Import library for Crammer's V\n",
    "import association_metrics as am\n",
    "\n",
    "# Convert object variables to Category columns\n",
    "loan3 = loan2.apply(\n",
    "        lambda x: x.astype(\"category\") if x.dtype == \"O\" else x)"
   ]
  },
  {
   "cell_type": "code",
   "execution_count": 21,
   "metadata": {},
   "outputs": [],
   "source": [
    "# Initialize a CramersV object using the pandas.DataFrame (df)\n",
    "cramers_v = am.CramersV(loan3)"
   ]
  },
  {
   "cell_type": "code",
   "execution_count": 22,
   "metadata": {},
   "outputs": [
    {
     "data": {
      "text/html": [
       "<div>\n",
       "<style scoped>\n",
       "    .dataframe tbody tr th:only-of-type {\n",
       "        vertical-align: middle;\n",
       "    }\n",
       "\n",
       "    .dataframe tbody tr th {\n",
       "        vertical-align: top;\n",
       "    }\n",
       "\n",
       "    .dataframe thead th {\n",
       "        text-align: right;\n",
       "    }\n",
       "</style>\n",
       "<table border=\"1\" class=\"dataframe\">\n",
       "  <thead>\n",
       "    <tr style=\"text-align: right;\">\n",
       "      <th></th>\n",
       "      <th>Gender</th>\n",
       "      <th>Loan_Status</th>\n",
       "    </tr>\n",
       "  </thead>\n",
       "  <tbody>\n",
       "    <tr>\n",
       "      <th>Gender</th>\n",
       "      <td>1.00</td>\n",
       "      <td>0.02</td>\n",
       "    </tr>\n",
       "    <tr>\n",
       "      <th>Loan_Status</th>\n",
       "      <td>0.02</td>\n",
       "      <td>1.00</td>\n",
       "    </tr>\n",
       "  </tbody>\n",
       "</table>\n",
       "</div>"
      ],
      "text/plain": [
       "             Gender  Loan_Status\n",
       "Gender         1.00         0.02\n",
       "Loan_Status    0.02         1.00"
      ]
     },
     "execution_count": 22,
     "metadata": {},
     "output_type": "execute_result"
    }
   ],
   "source": [
    "#Generate the cramer's v results\n",
    "cfit = cramers_v.fit().round(2)\n",
    "cfit"
   ]
  },
  {
   "cell_type": "code",
   "execution_count": 24,
   "metadata": {},
   "outputs": [],
   "source": [
    "import matplotlib.pyplot as plt"
   ]
  },
  {
   "cell_type": "code",
   "execution_count": 25,
   "metadata": {},
   "outputs": [
    {
     "data": {
      "image/png": "[encoded data removed]",
      "text/plain": [
       "<Figure size 1000x600 with 2 Axes>"
      ]
     },
     "metadata": {},
     "output_type": "display_data"
    }
   ],
   "source": [
    "#To generate a pairwise association plot\n",
    "# Instantiating a figure and axes object\n",
    "fig, ax = plt.subplots(figsize = (10, 6))\n",
    "# Generate a plot\n",
    "cax = ax.imshow(cfit.values, interpolation='nearest', cmap='Blues', vmin=0, vmax=1)\n",
    "# Setting the axes labels\n",
    "ax.set_xticks(ticks = range(len(cfit.columns)),\n",
    "              labels = cfit.columns)\n",
    "ax.set_yticks(ticks = range(len(cfit.columns)),\n",
    "              labels = cfit.columns)\n",
    "# Setting tick parameters\n",
    "ax.tick_params(axis = \"x\", labelsize = 12, labelrotation = 0)\n",
    "ax.tick_params(axis = \"y\", labelsize = 12, labelrotation = 0)\n",
    "# Adding a colorbar\n",
    "fig.colorbar(cax).ax.tick_params(labelsize = 12)\n",
    "# Adding annotations\n",
    "for (x, y), t in np.ndenumerate(cfit):\n",
    "    ax.annotate(\"{:.2f}\".format(t),\n",
    "                xy = (x, y),\n",
    "                va = \"center\",\n",
    "                ha = \"center\").set(color = \"black\", size = 12)"
   ]
  },
  {
   "cell_type": "markdown",
   "metadata": {},
   "source": [
    "            Explanation:\n",
    "* The graph shows that there are more male than female applicants. It also shows that the number of Yeses are more than rejections (N) for both genders\n",
    "\n",
    "* The Chi-Square statistic ranges from zero to infinity. The more associated two variables are, the larger the Chi-Square statistic will be\n",
    "\n",
    "* However, there's no statistical correlation between the variables Gender and Loan_Status (chi2 = 0.1396, p = 0.7086) implying the yeses and no's aren't based on gender of an applicant.\n",
    "\n",
    "* Cramer’s V ranges from 0 to 1, where 0 indicates no relationship and 1 indicates a strong association. Therefore there's a very small association between Gender and Loan_Status (V=0.02)\n",
    "*  It is calculated as:\n",
    "\n",
    "Cramer’s V = √(X2/n) / min(c-1, r-1)\n",
    "\n",
    "where:\n",
    "\n",
    "X2: The Chi-square statistic\n",
    "n: Total sample size\n",
    "r: Number of rows\n",
    "c: Number of columns\n",
    "\n",
    "![Alt text](image.png)\n"
   ]
  }
 ],
 "metadata": {
  "kernelspec": {
   "display_name": "base",
   "language": "python",
   "name": "python3"
  },
  "language_info": {
   "codemirror_mode": {
    "name": "ipython",
    "version": 3
   },
   "file_extension": ".py",
   "mimetype": "text/x-python",
   "name": "python",
   "nbconvert_exporter": "python",
   "pygments_lexer": "ipython3",
   "version": "3.12.4"
  }
 },
 "nbformat": 4,
 "nbformat_minor": 2
}
