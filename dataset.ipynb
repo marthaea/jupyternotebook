{
 "cells": [
  {
   "cell_type": "markdown",
   "metadata": {},
   "source": [
    "## KATUSIIME PRAISE MARTHA <br/>\n",
    "## BSIT <br/>\n",
    "## M24B13/057\n"
   ]
  },
  {
   "cell_type": "code",
   "execution_count": 1,
   "metadata": {},
   "outputs": [],
   "source": [
    "#Importing the dataset\n",
    "import pandas as pd"
   ]
  },
  {
   "cell_type": "code",
   "execution_count": 2,
   "metadata": {},
   "outputs": [
    {
     "data": {
      "text/html": [
       "<div>\n",
       "<style scoped>\n",
       "    .dataframe tbody tr th:only-of-type {\n",
       "        vertical-align: middle;\n",
       "    }\n",
       "\n",
       "    .dataframe tbody tr th {\n",
       "        vertical-align: top;\n",
       "    }\n",
       "\n",
       "    .dataframe thead th {\n",
       "        text-align: right;\n",
       "    }\n",
       "</style>\n",
       "<table border=\"1\" class=\"dataframe\">\n",
       "  <thead>\n",
       "    <tr style=\"text-align: right;\">\n",
       "      <th></th>\n",
       "      <th>PID</th>\n",
       "      <th>CRIM</th>\n",
       "      <th>AC</th>\n",
       "      <th>INDUS</th>\n",
       "      <th>LS</th>\n",
       "      <th>PR</th>\n",
       "      <th>RM</th>\n",
       "      <th>AGE</th>\n",
       "      <th>DIS</th>\n",
       "      <th>RAD</th>\n",
       "      <th>PTRATIO</th>\n",
       "      <th>DMT</th>\n",
       "      <th>LSTAT</th>\n",
       "      <th>MO</th>\n",
       "      <th>TAX</th>\n",
       "    </tr>\n",
       "  </thead>\n",
       "  <tbody>\n",
       "    <tr>\n",
       "      <th>count</th>\n",
       "      <td>506.000000</td>\n",
       "      <td>504.000000</td>\n",
       "      <td>506.000000</td>\n",
       "      <td>506.000000</td>\n",
       "      <td>504.000000</td>\n",
       "      <td>503.000000</td>\n",
       "      <td>502.000000</td>\n",
       "      <td>502.00000</td>\n",
       "      <td>503.000000</td>\n",
       "      <td>504.000000</td>\n",
       "      <td>503.000000</td>\n",
       "      <td>502.000000</td>\n",
       "      <td>505.000000</td>\n",
       "      <td>504.000000</td>\n",
       "      <td>505.000000</td>\n",
       "    </tr>\n",
       "    <tr>\n",
       "      <th>mean</th>\n",
       "      <td>353.500000</td>\n",
       "      <td>3.604056</td>\n",
       "      <td>11.363636</td>\n",
       "      <td>11.136779</td>\n",
       "      <td>0.069444</td>\n",
       "      <td>0.554164</td>\n",
       "      <td>6.285307</td>\n",
       "      <td>68.53008</td>\n",
       "      <td>3.796207</td>\n",
       "      <td>9.492063</td>\n",
       "      <td>18.443539</td>\n",
       "      <td>305.414530</td>\n",
       "      <td>12.654099</td>\n",
       "      <td>0.644841</td>\n",
       "      <td>407.726733</td>\n",
       "    </tr>\n",
       "    <tr>\n",
       "      <th>std</th>\n",
       "      <td>146.213884</td>\n",
       "      <td>8.609134</td>\n",
       "      <td>23.322453</td>\n",
       "      <td>6.860353</td>\n",
       "      <td>0.254461</td>\n",
       "      <td>0.115830</td>\n",
       "      <td>0.704098</td>\n",
       "      <td>28.13882</td>\n",
       "      <td>2.103234</td>\n",
       "      <td>8.676649</td>\n",
       "      <td>2.165602</td>\n",
       "      <td>142.836519</td>\n",
       "      <td>7.148104</td>\n",
       "      <td>1.794307</td>\n",
       "      <td>168.312294</td>\n",
       "    </tr>\n",
       "    <tr>\n",
       "      <th>min</th>\n",
       "      <td>101.000000</td>\n",
       "      <td>0.006320</td>\n",
       "      <td>0.000000</td>\n",
       "      <td>0.460000</td>\n",
       "      <td>0.000000</td>\n",
       "      <td>0.385000</td>\n",
       "      <td>3.561000</td>\n",
       "      <td>2.90000</td>\n",
       "      <td>1.129600</td>\n",
       "      <td>1.000000</td>\n",
       "      <td>12.600000</td>\n",
       "      <td>0.320000</td>\n",
       "      <td>1.730000</td>\n",
       "      <td>0.000000</td>\n",
       "      <td>187.000000</td>\n",
       "    </tr>\n",
       "    <tr>\n",
       "      <th>25%</th>\n",
       "      <td>227.250000</td>\n",
       "      <td>0.082155</td>\n",
       "      <td>0.000000</td>\n",
       "      <td>5.190000</td>\n",
       "      <td>0.000000</td>\n",
       "      <td>0.449000</td>\n",
       "      <td>5.885500</td>\n",
       "      <td>45.02500</td>\n",
       "      <td>2.100350</td>\n",
       "      <td>4.000000</td>\n",
       "      <td>17.350000</td>\n",
       "      <td>293.572500</td>\n",
       "      <td>6.930000</td>\n",
       "      <td>0.000000</td>\n",
       "      <td>279.000000</td>\n",
       "    </tr>\n",
       "    <tr>\n",
       "      <th>50%</th>\n",
       "      <td>353.500000</td>\n",
       "      <td>0.256510</td>\n",
       "      <td>0.000000</td>\n",
       "      <td>9.690000</td>\n",
       "      <td>0.000000</td>\n",
       "      <td>0.538000</td>\n",
       "      <td>6.208500</td>\n",
       "      <td>77.50000</td>\n",
       "      <td>3.215700</td>\n",
       "      <td>5.000000</td>\n",
       "      <td>19.000000</td>\n",
       "      <td>386.910000</td>\n",
       "      <td>11.340000</td>\n",
       "      <td>0.000000</td>\n",
       "      <td>330.000000</td>\n",
       "    </tr>\n",
       "    <tr>\n",
       "      <th>75%</th>\n",
       "      <td>479.750000</td>\n",
       "      <td>3.674808</td>\n",
       "      <td>12.500000</td>\n",
       "      <td>18.100000</td>\n",
       "      <td>0.000000</td>\n",
       "      <td>0.624000</td>\n",
       "      <td>6.623500</td>\n",
       "      <td>93.97500</td>\n",
       "      <td>5.164950</td>\n",
       "      <td>24.000000</td>\n",
       "      <td>20.200000</td>\n",
       "      <td>394.997500</td>\n",
       "      <td>16.960000</td>\n",
       "      <td>0.000000</td>\n",
       "      <td>666.000000</td>\n",
       "    </tr>\n",
       "    <tr>\n",
       "      <th>max</th>\n",
       "      <td>606.000000</td>\n",
       "      <td>88.976200</td>\n",
       "      <td>100.000000</td>\n",
       "      <td>27.740000</td>\n",
       "      <td>1.000000</td>\n",
       "      <td>0.871000</td>\n",
       "      <td>8.780000</td>\n",
       "      <td>100.00000</td>\n",
       "      <td>12.126500</td>\n",
       "      <td>24.000000</td>\n",
       "      <td>22.000000</td>\n",
       "      <td>396.900000</td>\n",
       "      <td>37.970000</td>\n",
       "      <td>19.000000</td>\n",
       "      <td>711.000000</td>\n",
       "    </tr>\n",
       "  </tbody>\n",
       "</table>\n",
       "</div>"
      ],
      "text/plain": [
       "              PID        CRIM          AC       INDUS          LS          PR  \\\n",
       "count  506.000000  504.000000  506.000000  506.000000  504.000000  503.000000   \n",
       "mean   353.500000    3.604056   11.363636   11.136779    0.069444    0.554164   \n",
       "std    146.213884    8.609134   23.322453    6.860353    0.254461    0.115830   \n",
       "min    101.000000    0.006320    0.000000    0.460000    0.000000    0.385000   \n",
       "25%    227.250000    0.082155    0.000000    5.190000    0.000000    0.449000   \n",
       "50%    353.500000    0.256510    0.000000    9.690000    0.000000    0.538000   \n",
       "75%    479.750000    3.674808   12.500000   18.100000    0.000000    0.624000   \n",
       "max    606.000000   88.976200  100.000000   27.740000    1.000000    0.871000   \n",
       "\n",
       "               RM        AGE         DIS         RAD     PTRATIO         DMT  \\\n",
       "count  502.000000  502.00000  503.000000  504.000000  503.000000  502.000000   \n",
       "mean     6.285307   68.53008    3.796207    9.492063   18.443539  305.414530   \n",
       "std      0.704098   28.13882    2.103234    8.676649    2.165602  142.836519   \n",
       "min      3.561000    2.90000    1.129600    1.000000   12.600000    0.320000   \n",
       "25%      5.885500   45.02500    2.100350    4.000000   17.350000  293.572500   \n",
       "50%      6.208500   77.50000    3.215700    5.000000   19.000000  386.910000   \n",
       "75%      6.623500   93.97500    5.164950   24.000000   20.200000  394.997500   \n",
       "max      8.780000  100.00000   12.126500   24.000000   22.000000  396.900000   \n",
       "\n",
       "            LSTAT          MO         TAX  \n",
       "count  505.000000  504.000000  505.000000  \n",
       "mean    12.654099    0.644841  407.726733  \n",
       "std      7.148104    1.794307  168.312294  \n",
       "min      1.730000    0.000000  187.000000  \n",
       "25%      6.930000    0.000000  279.000000  \n",
       "50%     11.340000    0.000000  330.000000  \n",
       "75%     16.960000    0.000000  666.000000  \n",
       "max     37.970000   19.000000  711.000000  "
      ]
     },
     "execution_count": 2,
     "metadata": {},
     "output_type": "execute_result"
    }
   ],
   "source": [
    "df = pd.read_excel(\"HousingData.xlsx\")\n",
    "df.describe()"
   ]
  },
  {
   "cell_type": "code",
   "execution_count": 3,
   "metadata": {},
   "outputs": [
    {
     "name": "stdout",
     "output_type": "stream",
     "text": [
      "<class 'pandas.core.frame.DataFrame'>\n",
      "RangeIndex: 506 entries, 0 to 505\n",
      "Data columns (total 15 columns):\n",
      " #   Column   Non-Null Count  Dtype  \n",
      "---  ------   --------------  -----  \n",
      " 0   PID      506 non-null    int64  \n",
      " 1   CRIM     504 non-null    float64\n",
      " 2   AC       506 non-null    float64\n",
      " 3   INDUS    506 non-null    float64\n",
      " 4   LS       504 non-null    float64\n",
      " 5   PR       503 non-null    float64\n",
      " 6   RM       502 non-null    float64\n",
      " 7   AGE      502 non-null    float64\n",
      " 8   DIS      503 non-null    float64\n",
      " 9   RAD      504 non-null    float64\n",
      " 10  PTRATIO  503 non-null    float64\n",
      " 11  DMT      502 non-null    float64\n",
      " 12  LSTAT    505 non-null    float64\n",
      " 13  MO       504 non-null    float64\n",
      " 14  TAX      505 non-null    float64\n",
      "dtypes: float64(14), int64(1)\n",
      "memory usage: 59.4 KB\n"
     ]
    }
   ],
   "source": [
    "df.info()"
   ]
  },
  {
   "cell_type": "markdown",
   "metadata": {},
   "source": [
    "   **Explanation**\n",
    " - The dataset consists of no anomalies\n",
    " - All columns have the correct data types (int64, float64)\n",
    " - The dataset has 15 columns and 506 rows\n",
    " "
   ]
  },
  {
   "cell_type": "markdown",
   "metadata": {},
   "source": [
    "# Question 13, Dividing the dataset 'CRIM' into two groups to determine the shape\n"
   ]
  },
  {
   "cell_type": "code",
   "execution_count": null,
   "metadata": {},
   "outputs": [
    {
     "name": "stdout",
     "output_type": "stream",
     "text": [
      "<class 'pandas.core.frame.DataFrame'>\n",
      "Index: 316 entries, 0 to 504\n",
      "Data columns (total 15 columns):\n",
      " #   Column   Non-Null Count  Dtype  \n",
      "---  ------   --------------  -----  \n",
      " 0   PID      316 non-null    int64  \n",
      " 1   CRIM     316 non-null    float64\n",
      " 2   AC       316 non-null    float64\n",
      " 3   INDUS    316 non-null    float64\n",
      " 4   LS       315 non-null    float64\n",
      " 5   PR       316 non-null    float64\n",
      " 6   RM       313 non-null    float64\n",
      " 7   AGE      314 non-null    float64\n",
      " 8   DIS      314 non-null    float64\n",
      " 9   RAD      316 non-null    float64\n",
      " 10  PTRATIO  316 non-null    float64\n",
      " 11  DMT      314 non-null    float64\n",
      " 12  LSTAT    316 non-null    float64\n",
      " 13  MO       316 non-null    float64\n",
      " 14  TAX      316 non-null    float64\n",
      "dtypes: float64(14), int64(1)\n",
      "memory usage: 39.5 KB\n"
     ]
    }
   ],
   "source": [
    "#Extraction of the variable as groups, GROUP1\n",
    "Group1 = df[df['CRIM'] <= 0.7]\n",
    "Group1.info()"
   ]
  },
  {
   "cell_type": "code",
   "execution_count": 5,
   "metadata": {},
   "outputs": [
    {
     "name": "stdout",
     "output_type": "stream",
     "text": [
      "<class 'pandas.core.frame.DataFrame'>\n",
      "Index: 188 entries, 16 to 487\n",
      "Data columns (total 15 columns):\n",
      " #   Column   Non-Null Count  Dtype  \n",
      "---  ------   --------------  -----  \n",
      " 0   PID      188 non-null    int64  \n",
      " 1   CRIM     188 non-null    float64\n",
      " 2   AC       188 non-null    float64\n",
      " 3   INDUS    188 non-null    float64\n",
      " 4   LS       188 non-null    float64\n",
      " 5   PR       186 non-null    float64\n",
      " 6   RM       188 non-null    float64\n",
      " 7   AGE      187 non-null    float64\n",
      " 8   DIS      188 non-null    float64\n",
      " 9   RAD      187 non-null    float64\n",
      " 10  PTRATIO  186 non-null    float64\n",
      " 11  DMT      187 non-null    float64\n",
      " 12  LSTAT    188 non-null    float64\n",
      " 13  MO       187 non-null    float64\n",
      " 14  TAX      188 non-null    float64\n",
      "dtypes: float64(14), int64(1)\n",
      "memory usage: 23.5 KB\n"
     ]
    }
   ],
   "source": [
    "#Extraction of the variable as groups, GROUP2\n",
    "Group2 = df[df['CRIM'] > 0.7]\n",
    "Group2.info()"
   ]
  },
  {
   "cell_type": "markdown",
   "metadata": {},
   "source": [
    "   **Explanation**\n",
    " - Group1 has 316 rows, which represents 62.6% of the total dataset.\n",
    " - Group2 has 188 rows, which represents the remaining 37.4% of the total dataset."
   ]
  },
  {
   "cell_type": "markdown",
   "metadata": {},
   "source": [
    "# Question 14. Finding the standard devistion for group1 and group2"
   ]
  },
  {
   "cell_type": "code",
   "execution_count": 7,
   "metadata": {},
   "outputs": [
    {
     "name": "stdout",
     "output_type": "stream",
     "text": [
      "PID        122.908342\n",
      "CRIM         0.156883\n",
      "AC          27.393255\n",
      "INDUS        5.731036\n",
      "LS           0.244234\n",
      "PR           0.064421\n",
      "RM           0.648029\n",
      "AGE         27.078145\n",
      "DIS          2.078168\n",
      "RAD          1.752761\n",
      "PTRATIO      1.966552\n",
      "DMT        127.479840\n",
      "LSTAT        5.269119\n",
      "MO           1.284754\n",
      "TAX         82.925077\n",
      "dtype: float64\n",
      "PID        146.967255\n",
      "CRIM        12.070678\n",
      "AC           2.512909\n",
      "INDUS        3.636380\n",
      "LS           0.271687\n",
      "PR           0.090794\n",
      "RM           0.719325\n",
      "AGE         13.684353\n",
      "DIS          0.826755\n",
      "RAD          8.968223\n",
      "PTRATIO      2.235119\n",
      "DMT        151.080354\n",
      "LSTAT        7.244353\n",
      "MO           2.246343\n",
      "TAX        142.144404\n",
      "dtype: float64\n"
     ]
    }
   ],
   "source": [
    "stdgroup1 = df[df['CRIM'] <= 0.7].std()\n",
    "print(stdgroup1)\n",
    "stdgroup2 = df[df['CRIM'] > 0.7].std()\n",
    "print(stdgroup2)"
   ]
  },
  {
   "cell_type": "markdown",
   "metadata": {},
   "source": [
    "# Question 16. Regression model to determine the property tax payed"
   ]
  },
  {
   "cell_type": "code",
   "execution_count": null,
   "metadata": {},
   "outputs": [],
   "source": [
    "column = df['TAX']\n",
    "import matplotlib.pyplot as plt\n",
    "\n",
    "\n",
    "\n"
   ]
  },
  {
   "cell_type": "code",
   "execution_count": 18,
   "metadata": {},
   "outputs": [
    {
     "data": {
      "text/plain": [
       "<function matplotlib.pyplot.show(close=None, block=None)>"
      ]
     },
     "execution_count": 18,
     "metadata": {},
     "output_type": "execute_result"
    },
    {
     "data": {
      "image/png": "[encoded data removed]",
      "text/plain": [
       "<Figure size 640x480 with 1 Axes>"
      ]
     },
     "metadata": {},
     "output_type": "display_data"
    }
   ],
   "source": [
    "column.hist( bins = 30, color = 'blue', edgecolor = 'red', alpha = 0.5 )\n",
    "plt.title(\"Regression model determining the tax payed\")\n",
    "plt.xlabel(\"Tax paid\")\n",
    "plt.ylabel(\"Accross the variables\")\n",
    "plt.show"
   ]
  },
  {
   "cell_type": "markdown",
   "metadata": {},
   "source": [
    "**Explanation**\n",
    " - The histogram shows the distribution of property taxes across the dataset.\n",
    " - The model used here is a simple histogram, which is suitable for a single variable analysis.\n",
    " - The histogram shows that the distribution of taxes is right-skewed, with a long tail on the right. This indicates that there are more houses with lower taxes than higher taxes.\n",
    " \n",
    " \n",
    " \n",
    " "
   ]
  }
 ],
 "metadata": {
  "kernelspec": {
   "display_name": "Python 3",
   "language": "python",
   "name": "python3"
  },
  "language_info": {
   "codemirror_mode": {
    "name": "ipython",
    "version": 3
   },
   "file_extension": ".py",
   "mimetype": "text/x-python",
   "name": "python",
   "nbconvert_exporter": "python",
   "pygments_lexer": "ipython3",
   "version": "3.12.4"
  }
 },
 "nbformat": 4,
 "nbformat_minor": 2
}
